{
  "nbformat": 4,
  "nbformat_minor": 0,
  "metadata": {
    "colab": {
      "provenance": [],
      "toc_visible": true,
      "authorship_tag": "ABX9TyNHBGmfwsr+Mhv3JqAl1gl3"
    },
    "kernelspec": {
      "name": "python3",
      "display_name": "Python 3"
    },
    "language_info": {
      "name": "python"
    }
  },
  "cells": [
    {
      "cell_type": "markdown",
      "source": [
        "***LangChain*** for LLM Application Development"
      ],
      "metadata": {
        "id": "tZykCByM01nG"
      }
    },
    {
      "cell_type": "markdown",
      "source": [
        "# **LangChain: Models, Prompts and Output Parsers**\n",
        "**Outline**\n",
        "\n",
        "- Direct API calls to OpenAI\n",
        "- API calls through LangChain:\n",
        "  - Prompts\n",
        "  - Models\n",
        "  - Output parsers"
      ],
      "metadata": {
        "id": "BbQS9XCI1C63"
      }
    },
    {
      "cell_type": "code",
      "execution_count": null,
      "metadata": {
        "id": "I0DFUdzB0kuU"
      },
      "outputs": [],
      "source": []
    }
  ]
}